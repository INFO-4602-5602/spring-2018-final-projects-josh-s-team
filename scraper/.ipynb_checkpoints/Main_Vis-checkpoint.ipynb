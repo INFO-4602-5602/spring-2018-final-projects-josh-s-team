{
 "cells": [
  {
   "cell_type": "code",
   "execution_count": null,
   "metadata": {},
   "outputs": [],
   "source": [
    "import numpy as np\n",
    "import pandas as pd\n",
    "import requests, json\n",
    "import networkx as nx\n",
    "import holoviews as hv\n",
    "#from NetworkxD3 import simpleNetworkx\n",
    "#import xarray as xr\n",
    "from itertools import combinations\n",
    "from IPython.display import Image\n",
    "#from holoviews.operation.datashader import datashade\n",
    "#import datashader as ds\n",
    "import matplotlib.pyplot as plt\n",
    "%matplotlib inline\n",
    "hv.extension('bokeh')\n",
    "\n",
    "#%opts Graph [width = 400 height = 400]"
   ]
  },
  {
   "cell_type": "code",
   "execution_count": null,
   "metadata": {},
   "outputs": [],
   "source": [
    "g = nx.Graph()"
   ]
  },
  {
   "cell_type": "code",
   "execution_count": null,
   "metadata": {},
   "outputs": [],
   "source": [
    "with open('dillasongs.json') as dilla_data1:\n",
    "    songs = json.load(dilla_data1)\n",
    "songs[0]"
   ]
  },
  {
   "cell_type": "code",
   "execution_count": null,
   "metadata": {},
   "outputs": [],
   "source": [
    "with open('rels.json') as dilla_data2:\n",
    "    samples = json.load(dilla_data2)\n",
    "samples[0]"
   ]
  },
  {
   "cell_type": "code",
   "execution_count": null,
   "metadata": {},
   "outputs": [],
   "source": [
    "samRels = [{\"song\": 0, \"sampled\": 38}, {\"song\": 0, \"sampled\": 34}, {\"song\": 0, \"sampled\": 31}, {\"song\": 0, \"sampled\": 28}, {\"song\": 0, \"sampled\": 25}, {\"song\": 0, \"sampled\": 23}, {\"song\": 0, \"sampled\": 20}, {\"song\": 0, \"sampled\": 18}, {\"song\": 0, \"sampled\": 15}, {\"song\": 0, \"sampled\": 12}, {\"song\": 0, \"sampled\": 8}, {\"song\": 0, \"sampled\": 5}, {\"song\": 0, \"sampled\": 2}, {\"song\": 2, \"sampled\": 1}, {\"song\": 5, \"sampled\": 3}, {\"song\": 5, \"sampled\": 4}, {\"song\": 8, \"sampled\": 6}, {\"song\": 8, \"sampled\": 7}, {\"song\": 12, \"sampled\": 9}, {\"song\": 12, \"sampled\": 10}, {\"song\": 12, \"sampled\": 11}, {\"song\": 15, \"sampled\": 13}, {\"song\": 15, \"sampled\": 14}, {\"song\": 18, \"sampled\": 16}, {\"song\": 18, \"sampled\": 17}, {\"song\": 20, \"sampled\": 19}, {\"song\": 23, \"sampled\": 21}, {\"song\": 23, \"sampled\": 22}, {\"song\": 25, \"sampled\": 24}, {\"song\": 28, \"sampled\": 26}, {\"song\": 28, \"sampled\": 27}, {\"song\": 31, \"sampled\": 29}, {\"song\": 31, \"sampled\": 30}, {\"song\": 34, \"sampled\": 32}, {\"song\": 34, \"sampled\": 33}, {\"song\": 38, \"sampled\": 35}, {\"song\": 38, \"sampled\": 36}, {\"song\": 38, \"sampled\": 37}]\n",
    "\n",
    "edgeList = []\n",
    "\n",
    "for edge in samRels:\n",
    "    connect = ()\n",
    "    for k, v in edge.items():\n",
    "        connect = connect + (v,)\n",
    "    edgeList.append(connect)"
   ]
  },
  {
   "cell_type": "code",
   "execution_count": null,
   "metadata": {},
   "outputs": [],
   "source": [
    "#add edges to the graph using i,j as dict:key values to song:sample\n",
    "for entry in edgeList:\n",
    "    i = 0 \n",
    "    j = 1\n",
    "    g.add_edge(entry[i],entry[j])"
   ]
  },
  {
   "cell_type": "code",
   "execution_count": null,
   "metadata": {
    "scrolled": false
   },
   "outputs": [],
   "source": [
    "%%opts Graph [tools=['hover']]\n",
    "#songs = nx.spring_layout(g, scale = 10)\n",
    "#nx.draw(G = g, pos = songs,with_labels = True)\n",
    "jd_graph = hv.Graph.from_networkx(g, nx.layout.spring_layout).redim.range(**padding)\n",
    "\n",
    "jd_graph"
   ]
  }
 ],
 "metadata": {
  "kernelspec": {
   "display_name": "Python 2",
   "language": "python",
   "name": "python2"
  },
  "language_info": {
   "codemirror_mode": {
    "name": "ipython",
    "version": 2
   },
   "file_extension": ".py",
   "mimetype": "text/x-python",
   "name": "python",
   "nbconvert_exporter": "python",
   "pygments_lexer": "ipython2",
   "version": "2.7.14"
  }
 },
 "nbformat": 4,
 "nbformat_minor": 2
}
