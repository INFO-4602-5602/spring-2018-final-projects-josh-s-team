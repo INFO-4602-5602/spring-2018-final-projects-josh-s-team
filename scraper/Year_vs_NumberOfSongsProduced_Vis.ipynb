{
 "cells": [
  {
   "cell_type": "code",
   "execution_count": null,
   "metadata": {
    "collapsed": true
   },
   "outputs": [],
   "source": [
    "import numpy as np\n",
    "import pandas as pd\n",
    "import matplotlib.pyplot as plt\n",
    "import bokeh\n",
    "import requests, json\n",
    "from bokeh.plotting import figure, output_file, show, ColumnDataSourcem\n",
    "from bokeh.models import HoverTool\n",
    "%matplotlib inline"
   ]
  },
  {
   "cell_type": "markdown",
   "metadata": {},
   "source": [
    "# Graph of Songs Produced by J Dilla by Year"
   ]
  },
  {
   "cell_type": "code",
   "execution_count": 24,
   "metadata": {},
   "outputs": [],
   "source": [
    "with open('dillasongsfull.json') as dilla_data1:\n",
    "    songs = json.load(dilla_data1)\n",
    "year = [] #year array\n",
    "num_rec = [] #num records array\n",
    "i=0\n",
    "for song in songs:\n",
    "    year.append(song['year'])\n",
    "    num_rec.append(year[i])\n",
    "    i += 1\n",
    "year, counts = np.unique(num_rec,return_counts=True)\n",
    "\n",
    "source = ColumnDataSource(data = dict(\n",
    "    x = year,\n",
    "    y = counts,\n",
    "))\n",
    "\n",
    "hover = HoverTool(tooltips = [\n",
    "    (\"(x,y)\", \"(@x, @y)\")\n",
    "])\n",
    "output_file(\"Year vs. Number of Songs Produced.html\")\n",
    "p = figure(plot_width = 1600, plot_height = 800, tools = [hover], title = \"Year vs. Number of Records\")\n",
    "p.line('x','y',line_width = 2, line_color=\"Blue\",source =source)\n",
    "p.yaxis.axis_label = 'Number of Songs Produced'\n",
    "p.xaxis.axis_label = 'Year'\n",
    "show(p)"
   ]
  }
 ],
 "metadata": {
  "kernelspec": {
   "display_name": "Python 3",
   "language": "python",
   "name": "python3"
  },
  "language_info": {
   "codemirror_mode": {
    "name": "ipython",
    "version": 3
   },
   "file_extension": ".py",
   "mimetype": "text/x-python",
   "name": "python",
   "nbconvert_exporter": "python",
   "pygments_lexer": "ipython3",
   "version": "3.6.3"
  }
 },
 "nbformat": 4,
 "nbformat_minor": 2
}
